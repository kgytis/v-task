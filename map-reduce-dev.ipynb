{
 "cells": [
  {
   "cell_type": "code",
   "execution_count": 9,
   "metadata": {},
   "outputs": [],
   "source": [
    "import os\n",
    "import csv\n",
    "\n",
    "# File reader function to read files from data source\n",
    "def file_reader(dir_path, file_path):\n",
    "    # Loop responsible for opening files\n",
    "    data_set = []\n",
    "    for file in os.listdir(dir_path):\n",
    "        data = open(f'{file_path}/{file}', encoding='utf-8')\n",
    "        csv_data = list(csv.reader(data))\n",
    "        # Below loop applies key to every csv file cell. That data for both datasets would be homogenious\n",
    "        headers = csv_data[0]\n",
    "        for data_row in csv_data[1:]:\n",
    "            my_dict = {}\n",
    "            for i, cell in enumerate(data_row):\n",
    "                my_dict[headers[i]] = cell\n",
    "            data_set.append(my_dict)\n",
    "    data.close()\n",
    "    return data_set\n"
   ]
  },
  {
   "cell_type": "code",
   "execution_count": 10,
   "metadata": {},
   "outputs": [
    {
     "name": "stdout",
     "output_type": "stream",
     "text": [
      "[{'date': '2017-12-20', 'screen': 'feed', 'user_id': '3', 'click_target': 'ad'}, {'date': '2017-12-19', 'screen': 'catalog', 'user_id': '3', 'click_target': 'ad'}, {'date': '2017-12-21', 'screen': 'feed', 'user_id': '3', 'click_target': 'profile'}, {'date': '2017-12-10', 'screen': 'catalog', 'user_id': '7', 'click_target': 'ad'}, {'date': '2017-12-12', 'screen': 'feed', 'user_id': '3', 'click_target': 'ad'}, {'date': '2017-12-17', 'screen': 'feed', 'user_id': '3', 'click_target': 'item'}, {'date': '2017-12-13', 'screen': 'feed', 'user_id': '7', 'click_target': 'item'}, {'date': '2017-12-10', 'screen': 'feed', 'user_id': '7', 'click_target': 'profile'}, {'date': '2017-12-20', 'screen': 'feed', 'user_id': '7', 'click_target': 'profile'}, {'date': '2017-12-17', 'screen': 'catalog', 'user_id': '7', 'click_target': 'ad'}, {'date': '2017-12-12', 'screen': 'feed', 'user_id': '7', 'click_target': 'ad'}, {'date': '2017-12-13', 'screen': 'blog', 'user_id': '7', 'click_target': 'ad'}, {'date': '2017-12-19', 'screen': 'catalog', 'user_id': '3', 'click_target': 'ad'}, {'date': '2017-12-14', 'screen': 'feed', 'user_id': '7', 'click_target': 'item'}, {'date': '2017-12-20', 'screen': 'feed', 'user_id': '7', 'click_target': 'ad'}, {'date': '2017-12-20', 'screen': 'feed', 'user_id': '7', 'click_target': 'profile'}, {'date': '2017-12-16', 'screen': 'catalog', 'user_id': '3', 'click_target': 'ad'}, {'date': '2017-12-17', 'screen': 'feed', 'user_id': '3', 'click_target': 'item'}, {'date': '2017-12-21', 'screen': 'feed', 'user_id': '7', 'click_target': 'ad'}, {'date': '2017-12-11', 'screen': 'feed', 'user_id': '3', 'click_target': 'ad'}, {'date': '2017-12-15', 'screen': 'catalog', 'user_id': '3', 'click_target': 'item'}, {'date': '2017-12-20', 'screen': 'catalog', 'user_id': '7', 'click_target': 'profile'}, {'date': '2017-12-16', 'screen': 'catalog', 'user_id': '7', 'click_target': 'item'}, {'date': '2017-12-19', 'screen': 'catalog', 'user_id': '7', 'click_target': 'ad'}, {'date': '2017-12-16', 'screen': 'blog', 'user_id': '7', 'click_target': 'ad'}, {'date': '2017-12-20', 'screen': 'catalog', 'user_id': '3', 'click_target': 'profile'}, {'date': '2017-12-16', 'screen': 'catalog', 'user_id': '3', 'click_target': 'ad'}, {'date': '2017-12-14', 'screen': 'catalog', 'user_id': '7', 'click_target': 'item'}, {'date': '2017-12-16', 'screen': 'feed', 'user_id': '7', 'click_target': 'item'}, {'date': '2017-12-14', 'screen': 'catalog', 'user_id': '7', 'click_target': 'profile'}, {'date': '2017-12-19', 'screen': 'catalog', 'user_id': '7', 'click_target': 'ad'}, {'date': '2017-12-14', 'screen': 'feed', 'user_id': '7', 'click_target': 'item'}, {'date': '2017-12-20', 'screen': 'feed', 'user_id': '7', 'click_target': 'ad'}, {'date': '2017-12-10', 'screen': 'feed', 'user_id': '7', 'click_target': 'ad'}, {'date': '2017-12-20', 'screen': 'feed', 'user_id': '7', 'click_target': 'profile'}, {'date': '2017-12-17', 'screen': 'catalog', 'user_id': '7', 'click_target': 'item'}, {'date': '2017-12-12', 'screen': 'feed', 'user_id': '3', 'click_target': 'ad'}, {'date': '2017-12-15', 'user_id': '4', 'click_target': 'item'}, {'date': '2017-12-15', 'user_id': '4', 'click_target': 'ad'}, {'date': '2017-12-12', 'user_id': '4', 'click_target': 'profile'}, {'date': '2017-12-13', 'user_id': '4', 'click_target': 'profile'}, {'date': '2017-12-13', 'user_id': '4', 'click_target': 'ad'}, {'date': '2017-12-12', 'user_id': '4', 'click_target': 'ad'}, {'date': '2017-12-18', 'user_id': '4', 'click_target': 'ad'}, {'date': '2017-12-21', 'user_id': '4', 'click_target': 'item'}, {'date': '2017-12-17', 'user_id': '4', 'click_target': 'profile'}, {'date': '2017-12-14', 'user_id': '4', 'click_target': 'ad'}, {'date': '2017-12-16', 'user_id': '4', 'click_target': 'ad'}, {'date': '2017-12-11', 'user_id': '2', 'click_target': 'ad'}, {'date': '2017-12-13', 'user_id': '2', 'click_target': 'item'}, {'date': '2017-12-12', 'user_id': '2', 'click_target': 'profile'}, {'date': '2017-12-18', 'user_id': '2', 'click_target': 'profile'}, {'date': '2017-12-18', 'user_id': '2', 'click_target': 'item'}, {'date': '2017-12-10', 'user_id': '6', 'click_target': 'ad'}, {'date': '2017-12-13', 'user_id': '6', 'click_target': 'ad'}, {'date': '2017-12-13', 'user_id': '2', 'click_target': 'ad'}, {'date': '2017-12-13', 'user_id': '6', 'click_target': 'ad'}, {'date': '2017-12-17', 'user_id': '2', 'click_target': 'item'}, {'date': '2017-12-19', 'user_id': '6', 'click_target': 'profile'}, {'date': '2017-12-17', 'user_id': '6', 'click_target': 'ad'}, {'date': '2017-12-12', 'user_id': '2', 'click_target': 'item'}, {'date': '2017-12-20', 'user_id': '2', 'click_target': 'ad'}, {'date': '2017-12-17', 'user_id': '2', 'click_target': 'ad'}, {'date': '2017-12-16', 'user_id': '6', 'click_target': 'item'}, {'date': '2017-12-19', 'user_id': '2', 'click_target': 'profile'}, {'date': '2017-12-12', 'user_id': '2', 'click_target': 'ad'}, {'date': '2017-12-15', 'user_id': '6', 'click_target': 'profile'}, {'date': '2017-12-19', 'user_id': '6', 'click_target': 'ad'}, {'date': '2017-12-11', 'user_id': '1', 'click_target': 'ad'}, {'date': '2017-12-16', 'user_id': '5', 'click_target': 'profile'}, {'date': '2017-12-12', 'user_id': '5', 'click_target': 'profile'}, {'date': '2017-12-20', 'user_id': '1', 'click_target': 'ad'}, {'date': '2017-12-18', 'user_id': '5', 'click_target': 'item'}, {'date': '2017-12-11', 'user_id': '5', 'click_target': 'profile'}, {'date': '2017-12-20', 'user_id': '1', 'click_target': 'item'}, {'date': '2017-12-21', 'user_id': '1', 'click_target': 'ad'}, {'date': '2017-12-19', 'user_id': '5', 'click_target': 'profile'}, {'date': '2017-12-17', 'user_id': '5', 'click_target': 'item'}, {'date': '2017-12-21', 'user_id': '5', 'click_target': 'item'}, {'date': '2017-12-14', 'user_id': '5', 'click_target': 'ad'}, {'date': '2017-12-18', 'user_id': '5', 'click_target': 'ad'}, {'date': '2017-12-13', 'user_id': '1', 'click_target': 'item'}, {'date': '2017-12-14', 'user_id': '5', 'click_target': 'item'}, {'date': '2017-12-21', 'user_id': '5', 'click_target': 'ad'}, {'date': '2017-12-12', 'user_id': '1', 'click_target': 'ad'}, {'date': '2017-12-21', 'user_id': '1', 'click_target': 'profile'}, {'date': '2017-12-14', 'user_id': '1', 'click_target': 'ad'}, {'date': '2017-12-20', 'user_id': '5', 'click_target': 'profile'}, {'date': '2017-12-17', 'user_id': '1', 'click_target': 'item'}, {'date': '2017-12-12', 'user_id': '1', 'click_target': 'ad'}, {'date': '2017-12-16', 'user_id': '1', 'click_target': 'item'}, {'date': '2017-12-16', 'user_id': '5', 'click_target': 'ad'}, {'date': '2017-12-15', 'user_id': '5', 'click_target': 'profile'}, {'date': '2017-12-20', 'user_id': '1', 'click_target': 'item'}, {'date': '2017-12-12', 'user_id': '5', 'click_target': 'profile'}, {'date': '2017-12-17', 'user_id': '1', 'click_target': 'profile'}, {'date': '2017-12-15', 'user_id': '5', 'click_target': 'profile'}, {'date': '2017-12-14', 'user_id': '5', 'click_target': 'profile'}, {'date': '2017-12-17', 'user_id': '1', 'click_target': 'item'}, {'date': '2017-12-14', 'user_id': '1', 'click_target': 'ad'}]\n",
      "[{'id': '1', 'country': 'LT'}, {'id': '2', 'country': 'DE'}, {'id': '3', 'country': 'LT'}, {'id': '100', 'country': 'LT'}, {'id': '200', 'country': 'DE'}, {'id': '300', 'country': 'LT'}, {'id': '4', 'city': 'Vilnius', 'country': 'LT'}, {'id': '5', 'city': 'Berlin', 'country': 'DE'}, {'id': '6', 'city': 'Munich', 'country': 'DE'}, {'id': '101', 'city': 'Hamburg', 'country': 'DE'}, {'id': '102', 'city': 'Kaunas', 'country': 'LT'}, {'id': '103', 'city': 'Vilnius', 'country': 'LT'}]\n"
     ]
    }
   ],
   "source": [
    "dir_path_clicks = f'{os.getcwd()}/data/clicks'\n",
    "file_path_clicks = 'data/clicks'\n",
    "\n",
    "dir_path_users = f'{os.getcwd()}/data/users'\n",
    "file_path_users = 'data/users'\n",
    "\n",
    "data_set_clicks = file_reader(dir_path_clicks, file_path_clicks)\n",
    "data_set_users = file_reader(dir_path_users, file_path_users)\n",
    "\n",
    "print(data_set_clicks)\n",
    "print(data_set_users)"
   ]
  },
  {
   "cell_type": "code",
   "execution_count": 11,
   "metadata": {},
   "outputs": [],
   "source": [
    "# Mapper function responsible of generating key-alue dictionary pairs and returning them\n",
    "def mapper_task_1(data):\n",
    "    results = []\n",
    "    for click in data:\n",
    "        key = click['date']\n",
    "        value = click\n",
    "        results.append(({'key': key, 'value': value}))\n",
    "    return results\n",
    "\n",
    "# Reducer funtion responsible for count, how many each day there were clicks\n",
    "def reducer_task_1(key, values):\n",
    "    result = []\n",
    "    result.append({'date': key, 'count': len(values)})\n",
    "    # Returning all key-value pairs\n",
    "    return result\n"
   ]
  },
  {
   "cell_type": "code",
   "execution_count": 13,
   "metadata": {},
   "outputs": [
    {
     "name": "stdout",
     "output_type": "stream",
     "text": [
      "[{'key': '2017-12-20', 'value': {'date': '2017-12-20', 'screen': 'feed', 'user_id': '3', 'click_target': 'ad'}}, {'key': '2017-12-19', 'value': {'date': '2017-12-19', 'screen': 'catalog', 'user_id': '3', 'click_target': 'ad'}}, {'key': '2017-12-21', 'value': {'date': '2017-12-21', 'screen': 'feed', 'user_id': '3', 'click_target': 'profile'}}, {'key': '2017-12-10', 'value': {'date': '2017-12-10', 'screen': 'catalog', 'user_id': '7', 'click_target': 'ad'}}, {'key': '2017-12-12', 'value': {'date': '2017-12-12', 'screen': 'feed', 'user_id': '3', 'click_target': 'ad'}}, {'key': '2017-12-17', 'value': {'date': '2017-12-17', 'screen': 'feed', 'user_id': '3', 'click_target': 'item'}}, {'key': '2017-12-13', 'value': {'date': '2017-12-13', 'screen': 'feed', 'user_id': '7', 'click_target': 'item'}}, {'key': '2017-12-10', 'value': {'date': '2017-12-10', 'screen': 'feed', 'user_id': '7', 'click_target': 'profile'}}, {'key': '2017-12-20', 'value': {'date': '2017-12-20', 'screen': 'feed', 'user_id': '7', 'click_target': 'profile'}}, {'key': '2017-12-17', 'value': {'date': '2017-12-17', 'screen': 'catalog', 'user_id': '7', 'click_target': 'ad'}}, {'key': '2017-12-12', 'value': {'date': '2017-12-12', 'screen': 'feed', 'user_id': '7', 'click_target': 'ad'}}, {'key': '2017-12-13', 'value': {'date': '2017-12-13', 'screen': 'blog', 'user_id': '7', 'click_target': 'ad'}}, {'key': '2017-12-19', 'value': {'date': '2017-12-19', 'screen': 'catalog', 'user_id': '3', 'click_target': 'ad'}}, {'key': '2017-12-14', 'value': {'date': '2017-12-14', 'screen': 'feed', 'user_id': '7', 'click_target': 'item'}}, {'key': '2017-12-20', 'value': {'date': '2017-12-20', 'screen': 'feed', 'user_id': '7', 'click_target': 'ad'}}, {'key': '2017-12-20', 'value': {'date': '2017-12-20', 'screen': 'feed', 'user_id': '7', 'click_target': 'profile'}}, {'key': '2017-12-16', 'value': {'date': '2017-12-16', 'screen': 'catalog', 'user_id': '3', 'click_target': 'ad'}}, {'key': '2017-12-17', 'value': {'date': '2017-12-17', 'screen': 'feed', 'user_id': '3', 'click_target': 'item'}}, {'key': '2017-12-21', 'value': {'date': '2017-12-21', 'screen': 'feed', 'user_id': '7', 'click_target': 'ad'}}, {'key': '2017-12-11', 'value': {'date': '2017-12-11', 'screen': 'feed', 'user_id': '3', 'click_target': 'ad'}}, {'key': '2017-12-15', 'value': {'date': '2017-12-15', 'screen': 'catalog', 'user_id': '3', 'click_target': 'item'}}, {'key': '2017-12-20', 'value': {'date': '2017-12-20', 'screen': 'catalog', 'user_id': '7', 'click_target': 'profile'}}, {'key': '2017-12-16', 'value': {'date': '2017-12-16', 'screen': 'catalog', 'user_id': '7', 'click_target': 'item'}}, {'key': '2017-12-19', 'value': {'date': '2017-12-19', 'screen': 'catalog', 'user_id': '7', 'click_target': 'ad'}}, {'key': '2017-12-16', 'value': {'date': '2017-12-16', 'screen': 'blog', 'user_id': '7', 'click_target': 'ad'}}, {'key': '2017-12-20', 'value': {'date': '2017-12-20', 'screen': 'catalog', 'user_id': '3', 'click_target': 'profile'}}, {'key': '2017-12-16', 'value': {'date': '2017-12-16', 'screen': 'catalog', 'user_id': '3', 'click_target': 'ad'}}, {'key': '2017-12-14', 'value': {'date': '2017-12-14', 'screen': 'catalog', 'user_id': '7', 'click_target': 'item'}}, {'key': '2017-12-16', 'value': {'date': '2017-12-16', 'screen': 'feed', 'user_id': '7', 'click_target': 'item'}}, {'key': '2017-12-14', 'value': {'date': '2017-12-14', 'screen': 'catalog', 'user_id': '7', 'click_target': 'profile'}}, {'key': '2017-12-19', 'value': {'date': '2017-12-19', 'screen': 'catalog', 'user_id': '7', 'click_target': 'ad'}}, {'key': '2017-12-14', 'value': {'date': '2017-12-14', 'screen': 'feed', 'user_id': '7', 'click_target': 'item'}}, {'key': '2017-12-20', 'value': {'date': '2017-12-20', 'screen': 'feed', 'user_id': '7', 'click_target': 'ad'}}, {'key': '2017-12-10', 'value': {'date': '2017-12-10', 'screen': 'feed', 'user_id': '7', 'click_target': 'ad'}}, {'key': '2017-12-20', 'value': {'date': '2017-12-20', 'screen': 'feed', 'user_id': '7', 'click_target': 'profile'}}, {'key': '2017-12-17', 'value': {'date': '2017-12-17', 'screen': 'catalog', 'user_id': '7', 'click_target': 'item'}}, {'key': '2017-12-12', 'value': {'date': '2017-12-12', 'screen': 'feed', 'user_id': '3', 'click_target': 'ad'}}, {'key': '2017-12-15', 'value': {'date': '2017-12-15', 'user_id': '4', 'click_target': 'item'}}, {'key': '2017-12-15', 'value': {'date': '2017-12-15', 'user_id': '4', 'click_target': 'ad'}}, {'key': '2017-12-12', 'value': {'date': '2017-12-12', 'user_id': '4', 'click_target': 'profile'}}, {'key': '2017-12-13', 'value': {'date': '2017-12-13', 'user_id': '4', 'click_target': 'profile'}}, {'key': '2017-12-13', 'value': {'date': '2017-12-13', 'user_id': '4', 'click_target': 'ad'}}, {'key': '2017-12-12', 'value': {'date': '2017-12-12', 'user_id': '4', 'click_target': 'ad'}}, {'key': '2017-12-18', 'value': {'date': '2017-12-18', 'user_id': '4', 'click_target': 'ad'}}, {'key': '2017-12-21', 'value': {'date': '2017-12-21', 'user_id': '4', 'click_target': 'item'}}, {'key': '2017-12-17', 'value': {'date': '2017-12-17', 'user_id': '4', 'click_target': 'profile'}}, {'key': '2017-12-14', 'value': {'date': '2017-12-14', 'user_id': '4', 'click_target': 'ad'}}, {'key': '2017-12-16', 'value': {'date': '2017-12-16', 'user_id': '4', 'click_target': 'ad'}}, {'key': '2017-12-11', 'value': {'date': '2017-12-11', 'user_id': '2', 'click_target': 'ad'}}, {'key': '2017-12-13', 'value': {'date': '2017-12-13', 'user_id': '2', 'click_target': 'item'}}, {'key': '2017-12-12', 'value': {'date': '2017-12-12', 'user_id': '2', 'click_target': 'profile'}}, {'key': '2017-12-18', 'value': {'date': '2017-12-18', 'user_id': '2', 'click_target': 'profile'}}, {'key': '2017-12-18', 'value': {'date': '2017-12-18', 'user_id': '2', 'click_target': 'item'}}, {'key': '2017-12-10', 'value': {'date': '2017-12-10', 'user_id': '6', 'click_target': 'ad'}}, {'key': '2017-12-13', 'value': {'date': '2017-12-13', 'user_id': '6', 'click_target': 'ad'}}, {'key': '2017-12-13', 'value': {'date': '2017-12-13', 'user_id': '2', 'click_target': 'ad'}}, {'key': '2017-12-13', 'value': {'date': '2017-12-13', 'user_id': '6', 'click_target': 'ad'}}, {'key': '2017-12-17', 'value': {'date': '2017-12-17', 'user_id': '2', 'click_target': 'item'}}, {'key': '2017-12-19', 'value': {'date': '2017-12-19', 'user_id': '6', 'click_target': 'profile'}}, {'key': '2017-12-17', 'value': {'date': '2017-12-17', 'user_id': '6', 'click_target': 'ad'}}, {'key': '2017-12-12', 'value': {'date': '2017-12-12', 'user_id': '2', 'click_target': 'item'}}, {'key': '2017-12-20', 'value': {'date': '2017-12-20', 'user_id': '2', 'click_target': 'ad'}}, {'key': '2017-12-17', 'value': {'date': '2017-12-17', 'user_id': '2', 'click_target': 'ad'}}, {'key': '2017-12-16', 'value': {'date': '2017-12-16', 'user_id': '6', 'click_target': 'item'}}, {'key': '2017-12-19', 'value': {'date': '2017-12-19', 'user_id': '2', 'click_target': 'profile'}}, {'key': '2017-12-12', 'value': {'date': '2017-12-12', 'user_id': '2', 'click_target': 'ad'}}, {'key': '2017-12-15', 'value': {'date': '2017-12-15', 'user_id': '6', 'click_target': 'profile'}}, {'key': '2017-12-19', 'value': {'date': '2017-12-19', 'user_id': '6', 'click_target': 'ad'}}, {'key': '2017-12-11', 'value': {'date': '2017-12-11', 'user_id': '1', 'click_target': 'ad'}}, {'key': '2017-12-16', 'value': {'date': '2017-12-16', 'user_id': '5', 'click_target': 'profile'}}, {'key': '2017-12-12', 'value': {'date': '2017-12-12', 'user_id': '5', 'click_target': 'profile'}}, {'key': '2017-12-20', 'value': {'date': '2017-12-20', 'user_id': '1', 'click_target': 'ad'}}, {'key': '2017-12-18', 'value': {'date': '2017-12-18', 'user_id': '5', 'click_target': 'item'}}, {'key': '2017-12-11', 'value': {'date': '2017-12-11', 'user_id': '5', 'click_target': 'profile'}}, {'key': '2017-12-20', 'value': {'date': '2017-12-20', 'user_id': '1', 'click_target': 'item'}}, {'key': '2017-12-21', 'value': {'date': '2017-12-21', 'user_id': '1', 'click_target': 'ad'}}, {'key': '2017-12-19', 'value': {'date': '2017-12-19', 'user_id': '5', 'click_target': 'profile'}}, {'key': '2017-12-17', 'value': {'date': '2017-12-17', 'user_id': '5', 'click_target': 'item'}}, {'key': '2017-12-21', 'value': {'date': '2017-12-21', 'user_id': '5', 'click_target': 'item'}}, {'key': '2017-12-14', 'value': {'date': '2017-12-14', 'user_id': '5', 'click_target': 'ad'}}, {'key': '2017-12-18', 'value': {'date': '2017-12-18', 'user_id': '5', 'click_target': 'ad'}}, {'key': '2017-12-13', 'value': {'date': '2017-12-13', 'user_id': '1', 'click_target': 'item'}}, {'key': '2017-12-14', 'value': {'date': '2017-12-14', 'user_id': '5', 'click_target': 'item'}}, {'key': '2017-12-21', 'value': {'date': '2017-12-21', 'user_id': '5', 'click_target': 'ad'}}, {'key': '2017-12-12', 'value': {'date': '2017-12-12', 'user_id': '1', 'click_target': 'ad'}}, {'key': '2017-12-21', 'value': {'date': '2017-12-21', 'user_id': '1', 'click_target': 'profile'}}, {'key': '2017-12-14', 'value': {'date': '2017-12-14', 'user_id': '1', 'click_target': 'ad'}}, {'key': '2017-12-20', 'value': {'date': '2017-12-20', 'user_id': '5', 'click_target': 'profile'}}, {'key': '2017-12-17', 'value': {'date': '2017-12-17', 'user_id': '1', 'click_target': 'item'}}, {'key': '2017-12-12', 'value': {'date': '2017-12-12', 'user_id': '1', 'click_target': 'ad'}}, {'key': '2017-12-16', 'value': {'date': '2017-12-16', 'user_id': '1', 'click_target': 'item'}}, {'key': '2017-12-16', 'value': {'date': '2017-12-16', 'user_id': '5', 'click_target': 'ad'}}, {'key': '2017-12-15', 'value': {'date': '2017-12-15', 'user_id': '5', 'click_target': 'profile'}}, {'key': '2017-12-20', 'value': {'date': '2017-12-20', 'user_id': '1', 'click_target': 'item'}}, {'key': '2017-12-12', 'value': {'date': '2017-12-12', 'user_id': '5', 'click_target': 'profile'}}, {'key': '2017-12-17', 'value': {'date': '2017-12-17', 'user_id': '1', 'click_target': 'profile'}}, {'key': '2017-12-15', 'value': {'date': '2017-12-15', 'user_id': '5', 'click_target': 'profile'}}, {'key': '2017-12-14', 'value': {'date': '2017-12-14', 'user_id': '5', 'click_target': 'profile'}}, {'key': '2017-12-17', 'value': {'date': '2017-12-17', 'user_id': '1', 'click_target': 'item'}}, {'key': '2017-12-14', 'value': {'date': '2017-12-14', 'user_id': '1', 'click_target': 'ad'}}]\n"
     ]
    }
   ],
   "source": [
    "# TESTING mapper_task_1 (reducer will be tested with map_reduce implementation, when data will be grouped)\n",
    "test_m_1 = mapper_task_1(data_set_clicks)\n",
    "print(test_m_1)"
   ]
  },
  {
   "cell_type": "code",
   "execution_count": 16,
   "metadata": {},
   "outputs": [],
   "source": [
    "# CUSTOM mapReduce IMPLEMENTATION\n",
    "# As number of datasets differs in both tasks, mapReduce takes list of datasets and list of mappers (if only one should be passed, it should be in a list as well)\n",
    "def map_reduce(datasets, mappers, reducer):\n",
    "    # Apply the mapper to the datasets\n",
    "    intermediate_data = []\n",
    "    for i, dataset in enumerate(datasets):\n",
    "        mapper = mappers[i]\n",
    "        intermediate_data += mapper(dataset)\n",
    "    # Group the intermediate data by key\n",
    "    grouped_data = {}\n",
    "    for item in intermediate_data:\n",
    "        if item['key'] in grouped_data:\n",
    "            grouped_data[item['key']].append(item['value'])\n",
    "        else:\n",
    "            grouped_data[item['key']] = [item['value']]\n",
    "    # Apply the reducer to each group of values\n",
    "    final_data = []\n",
    "    for key, values in grouped_data.items():\n",
    "        final_data.extend(reducer(key, values))\n",
    "    # Return the final output\n",
    "    return final_data"
   ]
  },
  {
   "cell_type": "code",
   "execution_count": 18,
   "metadata": {},
   "outputs": [
    {
     "name": "stdout",
     "output_type": "stream",
     "text": [
      "{'date': '2017-12-20', 'count': 13}\n",
      "{'date': '2017-12-19', 'count': 8}\n",
      "{'date': '2017-12-21', 'count': 7}\n",
      "{'date': '2017-12-10', 'count': 4}\n",
      "{'date': '2017-12-12', 'count': 12}\n",
      "{'date': '2017-12-17', 'count': 12}\n",
      "{'date': '2017-12-13', 'count': 9}\n",
      "{'date': '2017-12-14', 'count': 10}\n",
      "{'date': '2017-12-16', 'count': 10}\n",
      "{'date': '2017-12-11', 'count': 4}\n",
      "{'date': '2017-12-15', 'count': 6}\n",
      "{'date': '2017-12-18', 'count': 5}\n"
     ]
    }
   ],
   "source": [
    "# TESTING map_reduce + reducer for FIRST task\n",
    "final_data_1 = map_reduce(datasets=[data_set_clicks], mappers=[mapper_task_1], reducer=reducer_task_1)\n",
    "for data in final_data_1:\n",
    "    print(data)"
   ]
  }
 ],
 "metadata": {
  "kernelspec": {
   "display_name": "Python 3",
   "language": "python",
   "name": "python3"
  },
  "language_info": {
   "codemirror_mode": {
    "name": "ipython",
    "version": 3
   },
   "file_extension": ".py",
   "mimetype": "text/x-python",
   "name": "python",
   "nbconvert_exporter": "python",
   "pygments_lexer": "ipython3",
   "version": "3.11.1"
  },
  "orig_nbformat": 4
 },
 "nbformat": 4,
 "nbformat_minor": 2
}
