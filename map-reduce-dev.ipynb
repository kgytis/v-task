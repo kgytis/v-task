{
 "cells": [
  {
   "cell_type": "code",
   "execution_count": 9,
   "metadata": {},
   "outputs": [],
   "source": [
    "import os\n",
    "import csv\n",
    "\n",
    "# File reader function to read files from data source\n",
    "def file_reader(dir_path, file_path):\n",
    "    # Loop responsible for opening files\n",
    "    data_set = []\n",
    "    for file in os.listdir(dir_path):\n",
    "        data = open(f'{file_path}/{file}', encoding='utf-8')\n",
    "        csv_data = list(csv.reader(data))\n",
    "        # Below loop applies key to every csv file cell. That data for both datasets would be homogenious\n",
    "        headers = csv_data[0]\n",
    "        for data_row in csv_data[1:]:\n",
    "            my_dict = {}\n",
    "            for i, cell in enumerate(data_row):\n",
    "                my_dict[headers[i]] = cell\n",
    "            data_set.append(my_dict)\n",
    "    data.close()\n",
    "    return data_set\n"
   ]
  },
  {
   "cell_type": "code",
   "execution_count": 10,
   "metadata": {},
   "outputs": [
    {
     "name": "stdout",
     "output_type": "stream",
     "text": [
      "[{'date': '2017-12-20', 'screen': 'feed', 'user_id': '3', 'click_target': 'ad'}, {'date': '2017-12-19', 'screen': 'catalog', 'user_id': '3', 'click_target': 'ad'}, {'date': '2017-12-21', 'screen': 'feed', 'user_id': '3', 'click_target': 'profile'}, {'date': '2017-12-10', 'screen': 'catalog', 'user_id': '7', 'click_target': 'ad'}, {'date': '2017-12-12', 'screen': 'feed', 'user_id': '3', 'click_target': 'ad'}, {'date': '2017-12-17', 'screen': 'feed', 'user_id': '3', 'click_target': 'item'}, {'date': '2017-12-13', 'screen': 'feed', 'user_id': '7', 'click_target': 'item'}, {'date': '2017-12-10', 'screen': 'feed', 'user_id': '7', 'click_target': 'profile'}, {'date': '2017-12-20', 'screen': 'feed', 'user_id': '7', 'click_target': 'profile'}, {'date': '2017-12-17', 'screen': 'catalog', 'user_id': '7', 'click_target': 'ad'}, {'date': '2017-12-12', 'screen': 'feed', 'user_id': '7', 'click_target': 'ad'}, {'date': '2017-12-13', 'screen': 'blog', 'user_id': '7', 'click_target': 'ad'}, {'date': '2017-12-19', 'screen': 'catalog', 'user_id': '3', 'click_target': 'ad'}, {'date': '2017-12-14', 'screen': 'feed', 'user_id': '7', 'click_target': 'item'}, {'date': '2017-12-20', 'screen': 'feed', 'user_id': '7', 'click_target': 'ad'}, {'date': '2017-12-20', 'screen': 'feed', 'user_id': '7', 'click_target': 'profile'}, {'date': '2017-12-16', 'screen': 'catalog', 'user_id': '3', 'click_target': 'ad'}, {'date': '2017-12-17', 'screen': 'feed', 'user_id': '3', 'click_target': 'item'}, {'date': '2017-12-21', 'screen': 'feed', 'user_id': '7', 'click_target': 'ad'}, {'date': '2017-12-11', 'screen': 'feed', 'user_id': '3', 'click_target': 'ad'}, {'date': '2017-12-15', 'screen': 'catalog', 'user_id': '3', 'click_target': 'item'}, {'date': '2017-12-20', 'screen': 'catalog', 'user_id': '7', 'click_target': 'profile'}, {'date': '2017-12-16', 'screen': 'catalog', 'user_id': '7', 'click_target': 'item'}, {'date': '2017-12-19', 'screen': 'catalog', 'user_id': '7', 'click_target': 'ad'}, {'date': '2017-12-16', 'screen': 'blog', 'user_id': '7', 'click_target': 'ad'}, {'date': '2017-12-20', 'screen': 'catalog', 'user_id': '3', 'click_target': 'profile'}, {'date': '2017-12-16', 'screen': 'catalog', 'user_id': '3', 'click_target': 'ad'}, {'date': '2017-12-14', 'screen': 'catalog', 'user_id': '7', 'click_target': 'item'}, {'date': '2017-12-16', 'screen': 'feed', 'user_id': '7', 'click_target': 'item'}, {'date': '2017-12-14', 'screen': 'catalog', 'user_id': '7', 'click_target': 'profile'}, {'date': '2017-12-19', 'screen': 'catalog', 'user_id': '7', 'click_target': 'ad'}, {'date': '2017-12-14', 'screen': 'feed', 'user_id': '7', 'click_target': 'item'}, {'date': '2017-12-20', 'screen': 'feed', 'user_id': '7', 'click_target': 'ad'}, {'date': '2017-12-10', 'screen': 'feed', 'user_id': '7', 'click_target': 'ad'}, {'date': '2017-12-20', 'screen': 'feed', 'user_id': '7', 'click_target': 'profile'}, {'date': '2017-12-17', 'screen': 'catalog', 'user_id': '7', 'click_target': 'item'}, {'date': '2017-12-12', 'screen': 'feed', 'user_id': '3', 'click_target': 'ad'}, {'date': '2017-12-15', 'user_id': '4', 'click_target': 'item'}, {'date': '2017-12-15', 'user_id': '4', 'click_target': 'ad'}, {'date': '2017-12-12', 'user_id': '4', 'click_target': 'profile'}, {'date': '2017-12-13', 'user_id': '4', 'click_target': 'profile'}, {'date': '2017-12-13', 'user_id': '4', 'click_target': 'ad'}, {'date': '2017-12-12', 'user_id': '4', 'click_target': 'ad'}, {'date': '2017-12-18', 'user_id': '4', 'click_target': 'ad'}, {'date': '2017-12-21', 'user_id': '4', 'click_target': 'item'}, {'date': '2017-12-17', 'user_id': '4', 'click_target': 'profile'}, {'date': '2017-12-14', 'user_id': '4', 'click_target': 'ad'}, {'date': '2017-12-16', 'user_id': '4', 'click_target': 'ad'}, {'date': '2017-12-11', 'user_id': '2', 'click_target': 'ad'}, {'date': '2017-12-13', 'user_id': '2', 'click_target': 'item'}, {'date': '2017-12-12', 'user_id': '2', 'click_target': 'profile'}, {'date': '2017-12-18', 'user_id': '2', 'click_target': 'profile'}, {'date': '2017-12-18', 'user_id': '2', 'click_target': 'item'}, {'date': '2017-12-10', 'user_id': '6', 'click_target': 'ad'}, {'date': '2017-12-13', 'user_id': '6', 'click_target': 'ad'}, {'date': '2017-12-13', 'user_id': '2', 'click_target': 'ad'}, {'date': '2017-12-13', 'user_id': '6', 'click_target': 'ad'}, {'date': '2017-12-17', 'user_id': '2', 'click_target': 'item'}, {'date': '2017-12-19', 'user_id': '6', 'click_target': 'profile'}, {'date': '2017-12-17', 'user_id': '6', 'click_target': 'ad'}, {'date': '2017-12-12', 'user_id': '2', 'click_target': 'item'}, {'date': '2017-12-20', 'user_id': '2', 'click_target': 'ad'}, {'date': '2017-12-17', 'user_id': '2', 'click_target': 'ad'}, {'date': '2017-12-16', 'user_id': '6', 'click_target': 'item'}, {'date': '2017-12-19', 'user_id': '2', 'click_target': 'profile'}, {'date': '2017-12-12', 'user_id': '2', 'click_target': 'ad'}, {'date': '2017-12-15', 'user_id': '6', 'click_target': 'profile'}, {'date': '2017-12-19', 'user_id': '6', 'click_target': 'ad'}, {'date': '2017-12-11', 'user_id': '1', 'click_target': 'ad'}, {'date': '2017-12-16', 'user_id': '5', 'click_target': 'profile'}, {'date': '2017-12-12', 'user_id': '5', 'click_target': 'profile'}, {'date': '2017-12-20', 'user_id': '1', 'click_target': 'ad'}, {'date': '2017-12-18', 'user_id': '5', 'click_target': 'item'}, {'date': '2017-12-11', 'user_id': '5', 'click_target': 'profile'}, {'date': '2017-12-20', 'user_id': '1', 'click_target': 'item'}, {'date': '2017-12-21', 'user_id': '1', 'click_target': 'ad'}, {'date': '2017-12-19', 'user_id': '5', 'click_target': 'profile'}, {'date': '2017-12-17', 'user_id': '5', 'click_target': 'item'}, {'date': '2017-12-21', 'user_id': '5', 'click_target': 'item'}, {'date': '2017-12-14', 'user_id': '5', 'click_target': 'ad'}, {'date': '2017-12-18', 'user_id': '5', 'click_target': 'ad'}, {'date': '2017-12-13', 'user_id': '1', 'click_target': 'item'}, {'date': '2017-12-14', 'user_id': '5', 'click_target': 'item'}, {'date': '2017-12-21', 'user_id': '5', 'click_target': 'ad'}, {'date': '2017-12-12', 'user_id': '1', 'click_target': 'ad'}, {'date': '2017-12-21', 'user_id': '1', 'click_target': 'profile'}, {'date': '2017-12-14', 'user_id': '1', 'click_target': 'ad'}, {'date': '2017-12-20', 'user_id': '5', 'click_target': 'profile'}, {'date': '2017-12-17', 'user_id': '1', 'click_target': 'item'}, {'date': '2017-12-12', 'user_id': '1', 'click_target': 'ad'}, {'date': '2017-12-16', 'user_id': '1', 'click_target': 'item'}, {'date': '2017-12-16', 'user_id': '5', 'click_target': 'ad'}, {'date': '2017-12-15', 'user_id': '5', 'click_target': 'profile'}, {'date': '2017-12-20', 'user_id': '1', 'click_target': 'item'}, {'date': '2017-12-12', 'user_id': '5', 'click_target': 'profile'}, {'date': '2017-12-17', 'user_id': '1', 'click_target': 'profile'}, {'date': '2017-12-15', 'user_id': '5', 'click_target': 'profile'}, {'date': '2017-12-14', 'user_id': '5', 'click_target': 'profile'}, {'date': '2017-12-17', 'user_id': '1', 'click_target': 'item'}, {'date': '2017-12-14', 'user_id': '1', 'click_target': 'ad'}]\n",
      "[{'id': '1', 'country': 'LT'}, {'id': '2', 'country': 'DE'}, {'id': '3', 'country': 'LT'}, {'id': '100', 'country': 'LT'}, {'id': '200', 'country': 'DE'}, {'id': '300', 'country': 'LT'}, {'id': '4', 'city': 'Vilnius', 'country': 'LT'}, {'id': '5', 'city': 'Berlin', 'country': 'DE'}, {'id': '6', 'city': 'Munich', 'country': 'DE'}, {'id': '101', 'city': 'Hamburg', 'country': 'DE'}, {'id': '102', 'city': 'Kaunas', 'country': 'LT'}, {'id': '103', 'city': 'Vilnius', 'country': 'LT'}]\n"
     ]
    }
   ],
   "source": [
    "dir_path_clicks = f'{os.getcwd()}/data/clicks'\n",
    "file_path_clicks = 'data/clicks'\n",
    "\n",
    "dir_path_users = f'{os.getcwd()}/data/users'\n",
    "file_path_users = 'data/users'\n",
    "\n",
    "data_set_clicks = file_reader(dir_path_clicks, file_path_clicks)\n",
    "data_set_users = file_reader(dir_path_users, file_path_users)\n",
    "\n",
    "print(data_set_clicks)\n",
    "print(data_set_users)"
   ]
  },
  {
   "cell_type": "code",
   "execution_count": 11,
   "metadata": {},
   "outputs": [],
   "source": [
    "# Mapper function responsible of generating key-alue dictionary pairs and returning them\n",
    "def mapper_task_1(data):\n",
    "    results = []\n",
    "    for click in data:\n",
    "        key = click['date']\n",
    "        value = click\n",
    "        results.append(({'key': key, 'value': value}))\n",
    "    return results\n",
    "\n",
    "# Reducer funtion responsible for count, how many each day there were clicks\n",
    "def reducer_task_1(key, values):\n",
    "    result = []\n",
    "    result.append({'date': key, 'count': len(values)})\n",
    "    # Returning all key-value pairs\n",
    "    return result\n"
   ]
  },
  {
   "cell_type": "code",
   "execution_count": 13,
   "metadata": {},
   "outputs": [
    {
     "name": "stdout",
     "output_type": "stream",
     "text": [
      "[{'key': '2017-12-20', 'value': {'date': '2017-12-20', 'screen': 'feed', 'user_id': '3', 'click_target': 'ad'}}, {'key': '2017-12-19', 'value': {'date': '2017-12-19', 'screen': 'catalog', 'user_id': '3', 'click_target': 'ad'}}, {'key': '2017-12-21', 'value': {'date': '2017-12-21', 'screen': 'feed', 'user_id': '3', 'click_target': 'profile'}}, {'key': '2017-12-10', 'value': {'date': '2017-12-10', 'screen': 'catalog', 'user_id': '7', 'click_target': 'ad'}}, {'key': '2017-12-12', 'value': {'date': '2017-12-12', 'screen': 'feed', 'user_id': '3', 'click_target': 'ad'}}, {'key': '2017-12-17', 'value': {'date': '2017-12-17', 'screen': 'feed', 'user_id': '3', 'click_target': 'item'}}, {'key': '2017-12-13', 'value': {'date': '2017-12-13', 'screen': 'feed', 'user_id': '7', 'click_target': 'item'}}, {'key': '2017-12-10', 'value': {'date': '2017-12-10', 'screen': 'feed', 'user_id': '7', 'click_target': 'profile'}}, {'key': '2017-12-20', 'value': {'date': '2017-12-20', 'screen': 'feed', 'user_id': '7', 'click_target': 'profile'}}, {'key': '2017-12-17', 'value': {'date': '2017-12-17', 'screen': 'catalog', 'user_id': '7', 'click_target': 'ad'}}, {'key': '2017-12-12', 'value': {'date': '2017-12-12', 'screen': 'feed', 'user_id': '7', 'click_target': 'ad'}}, {'key': '2017-12-13', 'value': {'date': '2017-12-13', 'screen': 'blog', 'user_id': '7', 'click_target': 'ad'}}, {'key': '2017-12-19', 'value': {'date': '2017-12-19', 'screen': 'catalog', 'user_id': '3', 'click_target': 'ad'}}, {'key': '2017-12-14', 'value': {'date': '2017-12-14', 'screen': 'feed', 'user_id': '7', 'click_target': 'item'}}, {'key': '2017-12-20', 'value': {'date': '2017-12-20', 'screen': 'feed', 'user_id': '7', 'click_target': 'ad'}}, {'key': '2017-12-20', 'value': {'date': '2017-12-20', 'screen': 'feed', 'user_id': '7', 'click_target': 'profile'}}, {'key': '2017-12-16', 'value': {'date': '2017-12-16', 'screen': 'catalog', 'user_id': '3', 'click_target': 'ad'}}, {'key': '2017-12-17', 'value': {'date': '2017-12-17', 'screen': 'feed', 'user_id': '3', 'click_target': 'item'}}, {'key': '2017-12-21', 'value': {'date': '2017-12-21', 'screen': 'feed', 'user_id': '7', 'click_target': 'ad'}}, {'key': '2017-12-11', 'value': {'date': '2017-12-11', 'screen': 'feed', 'user_id': '3', 'click_target': 'ad'}}, {'key': '2017-12-15', 'value': {'date': '2017-12-15', 'screen': 'catalog', 'user_id': '3', 'click_target': 'item'}}, {'key': '2017-12-20', 'value': {'date': '2017-12-20', 'screen': 'catalog', 'user_id': '7', 'click_target': 'profile'}}, {'key': '2017-12-16', 'value': {'date': '2017-12-16', 'screen': 'catalog', 'user_id': '7', 'click_target': 'item'}}, {'key': '2017-12-19', 'value': {'date': '2017-12-19', 'screen': 'catalog', 'user_id': '7', 'click_target': 'ad'}}, {'key': '2017-12-16', 'value': {'date': '2017-12-16', 'screen': 'blog', 'user_id': '7', 'click_target': 'ad'}}, {'key': '2017-12-20', 'value': {'date': '2017-12-20', 'screen': 'catalog', 'user_id': '3', 'click_target': 'profile'}}, {'key': '2017-12-16', 'value': {'date': '2017-12-16', 'screen': 'catalog', 'user_id': '3', 'click_target': 'ad'}}, {'key': '2017-12-14', 'value': {'date': '2017-12-14', 'screen': 'catalog', 'user_id': '7', 'click_target': 'item'}}, {'key': '2017-12-16', 'value': {'date': '2017-12-16', 'screen': 'feed', 'user_id': '7', 'click_target': 'item'}}, {'key': '2017-12-14', 'value': {'date': '2017-12-14', 'screen': 'catalog', 'user_id': '7', 'click_target': 'profile'}}, {'key': '2017-12-19', 'value': {'date': '2017-12-19', 'screen': 'catalog', 'user_id': '7', 'click_target': 'ad'}}, {'key': '2017-12-14', 'value': {'date': '2017-12-14', 'screen': 'feed', 'user_id': '7', 'click_target': 'item'}}, {'key': '2017-12-20', 'value': {'date': '2017-12-20', 'screen': 'feed', 'user_id': '7', 'click_target': 'ad'}}, {'key': '2017-12-10', 'value': {'date': '2017-12-10', 'screen': 'feed', 'user_id': '7', 'click_target': 'ad'}}, {'key': '2017-12-20', 'value': {'date': '2017-12-20', 'screen': 'feed', 'user_id': '7', 'click_target': 'profile'}}, {'key': '2017-12-17', 'value': {'date': '2017-12-17', 'screen': 'catalog', 'user_id': '7', 'click_target': 'item'}}, {'key': '2017-12-12', 'value': {'date': '2017-12-12', 'screen': 'feed', 'user_id': '3', 'click_target': 'ad'}}, {'key': '2017-12-15', 'value': {'date': '2017-12-15', 'user_id': '4', 'click_target': 'item'}}, {'key': '2017-12-15', 'value': {'date': '2017-12-15', 'user_id': '4', 'click_target': 'ad'}}, {'key': '2017-12-12', 'value': {'date': '2017-12-12', 'user_id': '4', 'click_target': 'profile'}}, {'key': '2017-12-13', 'value': {'date': '2017-12-13', 'user_id': '4', 'click_target': 'profile'}}, {'key': '2017-12-13', 'value': {'date': '2017-12-13', 'user_id': '4', 'click_target': 'ad'}}, {'key': '2017-12-12', 'value': {'date': '2017-12-12', 'user_id': '4', 'click_target': 'ad'}}, {'key': '2017-12-18', 'value': {'date': '2017-12-18', 'user_id': '4', 'click_target': 'ad'}}, {'key': '2017-12-21', 'value': {'date': '2017-12-21', 'user_id': '4', 'click_target': 'item'}}, {'key': '2017-12-17', 'value': {'date': '2017-12-17', 'user_id': '4', 'click_target': 'profile'}}, {'key': '2017-12-14', 'value': {'date': '2017-12-14', 'user_id': '4', 'click_target': 'ad'}}, {'key': '2017-12-16', 'value': {'date': '2017-12-16', 'user_id': '4', 'click_target': 'ad'}}, {'key': '2017-12-11', 'value': {'date': '2017-12-11', 'user_id': '2', 'click_target': 'ad'}}, {'key': '2017-12-13', 'value': {'date': '2017-12-13', 'user_id': '2', 'click_target': 'item'}}, {'key': '2017-12-12', 'value': {'date': '2017-12-12', 'user_id': '2', 'click_target': 'profile'}}, {'key': '2017-12-18', 'value': {'date': '2017-12-18', 'user_id': '2', 'click_target': 'profile'}}, {'key': '2017-12-18', 'value': {'date': '2017-12-18', 'user_id': '2', 'click_target': 'item'}}, {'key': '2017-12-10', 'value': {'date': '2017-12-10', 'user_id': '6', 'click_target': 'ad'}}, {'key': '2017-12-13', 'value': {'date': '2017-12-13', 'user_id': '6', 'click_target': 'ad'}}, {'key': '2017-12-13', 'value': {'date': '2017-12-13', 'user_id': '2', 'click_target': 'ad'}}, {'key': '2017-12-13', 'value': {'date': '2017-12-13', 'user_id': '6', 'click_target': 'ad'}}, {'key': '2017-12-17', 'value': {'date': '2017-12-17', 'user_id': '2', 'click_target': 'item'}}, {'key': '2017-12-19', 'value': {'date': '2017-12-19', 'user_id': '6', 'click_target': 'profile'}}, {'key': '2017-12-17', 'value': {'date': '2017-12-17', 'user_id': '6', 'click_target': 'ad'}}, {'key': '2017-12-12', 'value': {'date': '2017-12-12', 'user_id': '2', 'click_target': 'item'}}, {'key': '2017-12-20', 'value': {'date': '2017-12-20', 'user_id': '2', 'click_target': 'ad'}}, {'key': '2017-12-17', 'value': {'date': '2017-12-17', 'user_id': '2', 'click_target': 'ad'}}, {'key': '2017-12-16', 'value': {'date': '2017-12-16', 'user_id': '6', 'click_target': 'item'}}, {'key': '2017-12-19', 'value': {'date': '2017-12-19', 'user_id': '2', 'click_target': 'profile'}}, {'key': '2017-12-12', 'value': {'date': '2017-12-12', 'user_id': '2', 'click_target': 'ad'}}, {'key': '2017-12-15', 'value': {'date': '2017-12-15', 'user_id': '6', 'click_target': 'profile'}}, {'key': '2017-12-19', 'value': {'date': '2017-12-19', 'user_id': '6', 'click_target': 'ad'}}, {'key': '2017-12-11', 'value': {'date': '2017-12-11', 'user_id': '1', 'click_target': 'ad'}}, {'key': '2017-12-16', 'value': {'date': '2017-12-16', 'user_id': '5', 'click_target': 'profile'}}, {'key': '2017-12-12', 'value': {'date': '2017-12-12', 'user_id': '5', 'click_target': 'profile'}}, {'key': '2017-12-20', 'value': {'date': '2017-12-20', 'user_id': '1', 'click_target': 'ad'}}, {'key': '2017-12-18', 'value': {'date': '2017-12-18', 'user_id': '5', 'click_target': 'item'}}, {'key': '2017-12-11', 'value': {'date': '2017-12-11', 'user_id': '5', 'click_target': 'profile'}}, {'key': '2017-12-20', 'value': {'date': '2017-12-20', 'user_id': '1', 'click_target': 'item'}}, {'key': '2017-12-21', 'value': {'date': '2017-12-21', 'user_id': '1', 'click_target': 'ad'}}, {'key': '2017-12-19', 'value': {'date': '2017-12-19', 'user_id': '5', 'click_target': 'profile'}}, {'key': '2017-12-17', 'value': {'date': '2017-12-17', 'user_id': '5', 'click_target': 'item'}}, {'key': '2017-12-21', 'value': {'date': '2017-12-21', 'user_id': '5', 'click_target': 'item'}}, {'key': '2017-12-14', 'value': {'date': '2017-12-14', 'user_id': '5', 'click_target': 'ad'}}, {'key': '2017-12-18', 'value': {'date': '2017-12-18', 'user_id': '5', 'click_target': 'ad'}}, {'key': '2017-12-13', 'value': {'date': '2017-12-13', 'user_id': '1', 'click_target': 'item'}}, {'key': '2017-12-14', 'value': {'date': '2017-12-14', 'user_id': '5', 'click_target': 'item'}}, {'key': '2017-12-21', 'value': {'date': '2017-12-21', 'user_id': '5', 'click_target': 'ad'}}, {'key': '2017-12-12', 'value': {'date': '2017-12-12', 'user_id': '1', 'click_target': 'ad'}}, {'key': '2017-12-21', 'value': {'date': '2017-12-21', 'user_id': '1', 'click_target': 'profile'}}, {'key': '2017-12-14', 'value': {'date': '2017-12-14', 'user_id': '1', 'click_target': 'ad'}}, {'key': '2017-12-20', 'value': {'date': '2017-12-20', 'user_id': '5', 'click_target': 'profile'}}, {'key': '2017-12-17', 'value': {'date': '2017-12-17', 'user_id': '1', 'click_target': 'item'}}, {'key': '2017-12-12', 'value': {'date': '2017-12-12', 'user_id': '1', 'click_target': 'ad'}}, {'key': '2017-12-16', 'value': {'date': '2017-12-16', 'user_id': '1', 'click_target': 'item'}}, {'key': '2017-12-16', 'value': {'date': '2017-12-16', 'user_id': '5', 'click_target': 'ad'}}, {'key': '2017-12-15', 'value': {'date': '2017-12-15', 'user_id': '5', 'click_target': 'profile'}}, {'key': '2017-12-20', 'value': {'date': '2017-12-20', 'user_id': '1', 'click_target': 'item'}}, {'key': '2017-12-12', 'value': {'date': '2017-12-12', 'user_id': '5', 'click_target': 'profile'}}, {'key': '2017-12-17', 'value': {'date': '2017-12-17', 'user_id': '1', 'click_target': 'profile'}}, {'key': '2017-12-15', 'value': {'date': '2017-12-15', 'user_id': '5', 'click_target': 'profile'}}, {'key': '2017-12-14', 'value': {'date': '2017-12-14', 'user_id': '5', 'click_target': 'profile'}}, {'key': '2017-12-17', 'value': {'date': '2017-12-17', 'user_id': '1', 'click_target': 'item'}}, {'key': '2017-12-14', 'value': {'date': '2017-12-14', 'user_id': '1', 'click_target': 'ad'}}]\n"
     ]
    }
   ],
   "source": [
    "# TESTING mapper_task_1 (reducer will be tested with map_reduce implementation, when data will be grouped)\n",
    "test_m_1 = mapper_task_1(data_set_clicks)\n",
    "print(test_m_1)"
   ]
  },
  {
   "cell_type": "code",
   "execution_count": 16,
   "metadata": {},
   "outputs": [],
   "source": [
    "# CUSTOM mapReduce IMPLEMENTATION\n",
    "# As number of datasets differs in both tasks, mapReduce takes list of datasets and list of mappers (if only one should be passed, it should be in a list as well)\n",
    "def map_reduce(datasets, mappers, reducer):\n",
    "    # Apply the mapper to the datasets\n",
    "    intermediate_data = []\n",
    "    for i, dataset in enumerate(datasets):\n",
    "        mapper = mappers[i]\n",
    "        intermediate_data += mapper(dataset)\n",
    "    # Group the intermediate data by key\n",
    "    grouped_data = {}\n",
    "    for item in intermediate_data:\n",
    "        if item['key'] in grouped_data:\n",
    "            grouped_data[item['key']].append(item['value'])\n",
    "        else:\n",
    "            grouped_data[item['key']] = [item['value']]\n",
    "    # Apply the reducer to each group of values\n",
    "    final_data = []\n",
    "    for key, values in grouped_data.items():\n",
    "        final_data.extend(reducer(key, values))\n",
    "    # Return the final output\n",
    "    return final_data"
   ]
  },
  {
   "cell_type": "code",
   "execution_count": 19,
   "metadata": {},
   "outputs": [
    {
     "name": "stdout",
     "output_type": "stream",
     "text": [
      "{'date': '2017-12-20', 'count': 13}\n",
      "{'date': '2017-12-19', 'count': 8}\n",
      "{'date': '2017-12-21', 'count': 7}\n",
      "{'date': '2017-12-10', 'count': 4}\n",
      "{'date': '2017-12-12', 'count': 12}\n",
      "{'date': '2017-12-17', 'count': 12}\n",
      "{'date': '2017-12-13', 'count': 9}\n",
      "{'date': '2017-12-14', 'count': 10}\n",
      "{'date': '2017-12-16', 'count': 10}\n",
      "{'date': '2017-12-11', 'count': 4}\n",
      "{'date': '2017-12-15', 'count': 6}\n",
      "{'date': '2017-12-18', 'count': 5}\n"
     ]
    }
   ],
   "source": [
    "# TESTING map_reduce + reducer for FIRST task\n",
    "final_data_1 = map_reduce(datasets=[data_set_clicks], mappers=[mapper_task_1], reducer=reducer_task_1)\n",
    "for data in final_data_1:\n",
    "    print(data)"
   ]
  },
  {
   "cell_type": "code",
   "execution_count": 63,
   "metadata": {},
   "outputs": [],
   "source": [
    "# TWO MAP FUNCTIONS FOR SECOND TASK\n",
    "# Same return as mapper function in first task, just additional implementation of table key value pair\n",
    "# 'table' : 'users' <-- for users dataset\n",
    "# 'table' : 'clicks' <-- for clicks dataset\n",
    "def mapper_task_2_users(users):\n",
    "    results = []\n",
    "    for user in users:\n",
    "        if user['country'] == 'LT':\n",
    "            key = user['id']\n",
    "            value = user.copy()\n",
    "            # indicator that this is a users table\n",
    "            value['table'] = 'users'\n",
    "            results.append({'key': key, 'value': value})\n",
    "    return results\n",
    "\n",
    "def mapper_task_2_clicks(clicks):\n",
    "    results = []\n",
    "    for click in clicks:\n",
    "        key = click['user_id']\n",
    "        value = click\n",
    "        # indicator that this is a users table\n",
    "        value['table'] = 'clicks'\n",
    "        results.append(({'key': key, 'value': value}))\n",
    "    return results\n",
    "\n",
    "# Reducer accepts mapped data (LT user + his clicks) + unmatched clicks, which are later filtered out\n",
    "def reducer_task_2(key, values):\n",
    "    # Values -> LT user : his click | LT user : no clicks | clicks without LT user (first mapper filters out users that are not from LT)\n",
    "    # user -> Filters out from values onlt user data (needed to filter out clicks)\n",
    "    user = next((value for value in values if value['table'] == 'users'), None)\n",
    "    filtered_clicks = []\n",
    "    for click in values:\n",
    "        # From grouped dataset takes only data that are clicks\n",
    "        # And merges user data with click data (like join) (user data + click data) --> single line\n",
    "        # After that it appends all merged clicks to filtered list (user data + click data) --> multiple lines\n",
    "        if click['table'] == 'clicks':\n",
    "            merged_click = click.copy()\n",
    "            if user is not None:\n",
    "                merged_click.update(user)\n",
    "            if 'country' in merged_click and merged_click['country'] is not None:\n",
    "                filtered_clicks.append(merged_click)\n",
    "    return filtered_clicks\n",
    "\n"
   ]
  },
  {
   "cell_type": "code",
   "execution_count": 64,
   "metadata": {},
   "outputs": [
    {
     "name": "stdout",
     "output_type": "stream",
     "text": [
      "[{'key': '1', 'value': {'id': '1', 'country': 'LT', 'table': 'users'}}, {'key': '3', 'value': {'id': '3', 'country': 'LT', 'table': 'users'}}, {'key': '100', 'value': {'id': '100', 'country': 'LT', 'table': 'users'}}, {'key': '300', 'value': {'id': '300', 'country': 'LT', 'table': 'users'}}, {'key': '4', 'value': {'id': '4', 'city': 'Vilnius', 'country': 'LT', 'table': 'users'}}, {'key': '102', 'value': {'id': '102', 'city': 'Kaunas', 'country': 'LT', 'table': 'users'}}, {'key': '103', 'value': {'id': '103', 'city': 'Vilnius', 'country': 'LT', 'table': 'users'}}]\n",
      "[{'key': '3', 'value': {'date': '2017-12-20', 'screen': 'feed', 'user_id': '3', 'click_target': 'ad', 'table': 'clicks'}}, {'key': '3', 'value': {'date': '2017-12-19', 'screen': 'catalog', 'user_id': '3', 'click_target': 'ad', 'table': 'clicks'}}, {'key': '3', 'value': {'date': '2017-12-21', 'screen': 'feed', 'user_id': '3', 'click_target': 'profile', 'table': 'clicks'}}, {'key': '7', 'value': {'date': '2017-12-10', 'screen': 'catalog', 'user_id': '7', 'click_target': 'ad', 'table': 'clicks'}}, {'key': '3', 'value': {'date': '2017-12-12', 'screen': 'feed', 'user_id': '3', 'click_target': 'ad', 'table': 'clicks'}}, {'key': '3', 'value': {'date': '2017-12-17', 'screen': 'feed', 'user_id': '3', 'click_target': 'item', 'table': 'clicks'}}, {'key': '7', 'value': {'date': '2017-12-13', 'screen': 'feed', 'user_id': '7', 'click_target': 'item', 'table': 'clicks'}}, {'key': '7', 'value': {'date': '2017-12-10', 'screen': 'feed', 'user_id': '7', 'click_target': 'profile', 'table': 'clicks'}}, {'key': '7', 'value': {'date': '2017-12-20', 'screen': 'feed', 'user_id': '7', 'click_target': 'profile', 'table': 'clicks'}}, {'key': '7', 'value': {'date': '2017-12-17', 'screen': 'catalog', 'user_id': '7', 'click_target': 'ad', 'table': 'clicks'}}, {'key': '7', 'value': {'date': '2017-12-12', 'screen': 'feed', 'user_id': '7', 'click_target': 'ad', 'table': 'clicks'}}, {'key': '7', 'value': {'date': '2017-12-13', 'screen': 'blog', 'user_id': '7', 'click_target': 'ad', 'table': 'clicks'}}, {'key': '3', 'value': {'date': '2017-12-19', 'screen': 'catalog', 'user_id': '3', 'click_target': 'ad', 'table': 'clicks'}}, {'key': '7', 'value': {'date': '2017-12-14', 'screen': 'feed', 'user_id': '7', 'click_target': 'item', 'table': 'clicks'}}, {'key': '7', 'value': {'date': '2017-12-20', 'screen': 'feed', 'user_id': '7', 'click_target': 'ad', 'table': 'clicks'}}, {'key': '7', 'value': {'date': '2017-12-20', 'screen': 'feed', 'user_id': '7', 'click_target': 'profile', 'table': 'clicks'}}, {'key': '3', 'value': {'date': '2017-12-16', 'screen': 'catalog', 'user_id': '3', 'click_target': 'ad', 'table': 'clicks'}}, {'key': '3', 'value': {'date': '2017-12-17', 'screen': 'feed', 'user_id': '3', 'click_target': 'item', 'table': 'clicks'}}, {'key': '7', 'value': {'date': '2017-12-21', 'screen': 'feed', 'user_id': '7', 'click_target': 'ad', 'table': 'clicks'}}, {'key': '3', 'value': {'date': '2017-12-11', 'screen': 'feed', 'user_id': '3', 'click_target': 'ad', 'table': 'clicks'}}, {'key': '3', 'value': {'date': '2017-12-15', 'screen': 'catalog', 'user_id': '3', 'click_target': 'item', 'table': 'clicks'}}, {'key': '7', 'value': {'date': '2017-12-20', 'screen': 'catalog', 'user_id': '7', 'click_target': 'profile', 'table': 'clicks'}}, {'key': '7', 'value': {'date': '2017-12-16', 'screen': 'catalog', 'user_id': '7', 'click_target': 'item', 'table': 'clicks'}}, {'key': '7', 'value': {'date': '2017-12-19', 'screen': 'catalog', 'user_id': '7', 'click_target': 'ad', 'table': 'clicks'}}, {'key': '7', 'value': {'date': '2017-12-16', 'screen': 'blog', 'user_id': '7', 'click_target': 'ad', 'table': 'clicks'}}, {'key': '3', 'value': {'date': '2017-12-20', 'screen': 'catalog', 'user_id': '3', 'click_target': 'profile', 'table': 'clicks'}}, {'key': '3', 'value': {'date': '2017-12-16', 'screen': 'catalog', 'user_id': '3', 'click_target': 'ad', 'table': 'clicks'}}, {'key': '7', 'value': {'date': '2017-12-14', 'screen': 'catalog', 'user_id': '7', 'click_target': 'item', 'table': 'clicks'}}, {'key': '7', 'value': {'date': '2017-12-16', 'screen': 'feed', 'user_id': '7', 'click_target': 'item', 'table': 'clicks'}}, {'key': '7', 'value': {'date': '2017-12-14', 'screen': 'catalog', 'user_id': '7', 'click_target': 'profile', 'table': 'clicks'}}, {'key': '7', 'value': {'date': '2017-12-19', 'screen': 'catalog', 'user_id': '7', 'click_target': 'ad', 'table': 'clicks'}}, {'key': '7', 'value': {'date': '2017-12-14', 'screen': 'feed', 'user_id': '7', 'click_target': 'item', 'table': 'clicks'}}, {'key': '7', 'value': {'date': '2017-12-20', 'screen': 'feed', 'user_id': '7', 'click_target': 'ad', 'table': 'clicks'}}, {'key': '7', 'value': {'date': '2017-12-10', 'screen': 'feed', 'user_id': '7', 'click_target': 'ad', 'table': 'clicks'}}, {'key': '7', 'value': {'date': '2017-12-20', 'screen': 'feed', 'user_id': '7', 'click_target': 'profile', 'table': 'clicks'}}, {'key': '7', 'value': {'date': '2017-12-17', 'screen': 'catalog', 'user_id': '7', 'click_target': 'item', 'table': 'clicks'}}, {'key': '3', 'value': {'date': '2017-12-12', 'screen': 'feed', 'user_id': '3', 'click_target': 'ad', 'table': 'clicks'}}, {'key': '4', 'value': {'date': '2017-12-15', 'user_id': '4', 'click_target': 'item', 'table': 'clicks'}}, {'key': '4', 'value': {'date': '2017-12-15', 'user_id': '4', 'click_target': 'ad', 'table': 'clicks'}}, {'key': '4', 'value': {'date': '2017-12-12', 'user_id': '4', 'click_target': 'profile', 'table': 'clicks'}}, {'key': '4', 'value': {'date': '2017-12-13', 'user_id': '4', 'click_target': 'profile', 'table': 'clicks'}}, {'key': '4', 'value': {'date': '2017-12-13', 'user_id': '4', 'click_target': 'ad', 'table': 'clicks'}}, {'key': '4', 'value': {'date': '2017-12-12', 'user_id': '4', 'click_target': 'ad', 'table': 'clicks'}}, {'key': '4', 'value': {'date': '2017-12-18', 'user_id': '4', 'click_target': 'ad', 'table': 'clicks'}}, {'key': '4', 'value': {'date': '2017-12-21', 'user_id': '4', 'click_target': 'item', 'table': 'clicks'}}, {'key': '4', 'value': {'date': '2017-12-17', 'user_id': '4', 'click_target': 'profile', 'table': 'clicks'}}, {'key': '4', 'value': {'date': '2017-12-14', 'user_id': '4', 'click_target': 'ad', 'table': 'clicks'}}, {'key': '4', 'value': {'date': '2017-12-16', 'user_id': '4', 'click_target': 'ad', 'table': 'clicks'}}, {'key': '2', 'value': {'date': '2017-12-11', 'user_id': '2', 'click_target': 'ad', 'table': 'clicks'}}, {'key': '2', 'value': {'date': '2017-12-13', 'user_id': '2', 'click_target': 'item', 'table': 'clicks'}}, {'key': '2', 'value': {'date': '2017-12-12', 'user_id': '2', 'click_target': 'profile', 'table': 'clicks'}}, {'key': '2', 'value': {'date': '2017-12-18', 'user_id': '2', 'click_target': 'profile', 'table': 'clicks'}}, {'key': '2', 'value': {'date': '2017-12-18', 'user_id': '2', 'click_target': 'item', 'table': 'clicks'}}, {'key': '6', 'value': {'date': '2017-12-10', 'user_id': '6', 'click_target': 'ad', 'table': 'clicks'}}, {'key': '6', 'value': {'date': '2017-12-13', 'user_id': '6', 'click_target': 'ad', 'table': 'clicks'}}, {'key': '2', 'value': {'date': '2017-12-13', 'user_id': '2', 'click_target': 'ad', 'table': 'clicks'}}, {'key': '6', 'value': {'date': '2017-12-13', 'user_id': '6', 'click_target': 'ad', 'table': 'clicks'}}, {'key': '2', 'value': {'date': '2017-12-17', 'user_id': '2', 'click_target': 'item', 'table': 'clicks'}}, {'key': '6', 'value': {'date': '2017-12-19', 'user_id': '6', 'click_target': 'profile', 'table': 'clicks'}}, {'key': '6', 'value': {'date': '2017-12-17', 'user_id': '6', 'click_target': 'ad', 'table': 'clicks'}}, {'key': '2', 'value': {'date': '2017-12-12', 'user_id': '2', 'click_target': 'item', 'table': 'clicks'}}, {'key': '2', 'value': {'date': '2017-12-20', 'user_id': '2', 'click_target': 'ad', 'table': 'clicks'}}, {'key': '2', 'value': {'date': '2017-12-17', 'user_id': '2', 'click_target': 'ad', 'table': 'clicks'}}, {'key': '6', 'value': {'date': '2017-12-16', 'user_id': '6', 'click_target': 'item', 'table': 'clicks'}}, {'key': '2', 'value': {'date': '2017-12-19', 'user_id': '2', 'click_target': 'profile', 'table': 'clicks'}}, {'key': '2', 'value': {'date': '2017-12-12', 'user_id': '2', 'click_target': 'ad', 'table': 'clicks'}}, {'key': '6', 'value': {'date': '2017-12-15', 'user_id': '6', 'click_target': 'profile', 'table': 'clicks'}}, {'key': '6', 'value': {'date': '2017-12-19', 'user_id': '6', 'click_target': 'ad', 'table': 'clicks'}}, {'key': '1', 'value': {'date': '2017-12-11', 'user_id': '1', 'click_target': 'ad', 'table': 'clicks'}}, {'key': '5', 'value': {'date': '2017-12-16', 'user_id': '5', 'click_target': 'profile', 'table': 'clicks'}}, {'key': '5', 'value': {'date': '2017-12-12', 'user_id': '5', 'click_target': 'profile', 'table': 'clicks'}}, {'key': '1', 'value': {'date': '2017-12-20', 'user_id': '1', 'click_target': 'ad', 'table': 'clicks'}}, {'key': '5', 'value': {'date': '2017-12-18', 'user_id': '5', 'click_target': 'item', 'table': 'clicks'}}, {'key': '5', 'value': {'date': '2017-12-11', 'user_id': '5', 'click_target': 'profile', 'table': 'clicks'}}, {'key': '1', 'value': {'date': '2017-12-20', 'user_id': '1', 'click_target': 'item', 'table': 'clicks'}}, {'key': '1', 'value': {'date': '2017-12-21', 'user_id': '1', 'click_target': 'ad', 'table': 'clicks'}}, {'key': '5', 'value': {'date': '2017-12-19', 'user_id': '5', 'click_target': 'profile', 'table': 'clicks'}}, {'key': '5', 'value': {'date': '2017-12-17', 'user_id': '5', 'click_target': 'item', 'table': 'clicks'}}, {'key': '5', 'value': {'date': '2017-12-21', 'user_id': '5', 'click_target': 'item', 'table': 'clicks'}}, {'key': '5', 'value': {'date': '2017-12-14', 'user_id': '5', 'click_target': 'ad', 'table': 'clicks'}}, {'key': '5', 'value': {'date': '2017-12-18', 'user_id': '5', 'click_target': 'ad', 'table': 'clicks'}}, {'key': '1', 'value': {'date': '2017-12-13', 'user_id': '1', 'click_target': 'item', 'table': 'clicks'}}, {'key': '5', 'value': {'date': '2017-12-14', 'user_id': '5', 'click_target': 'item', 'table': 'clicks'}}, {'key': '5', 'value': {'date': '2017-12-21', 'user_id': '5', 'click_target': 'ad', 'table': 'clicks'}}, {'key': '1', 'value': {'date': '2017-12-12', 'user_id': '1', 'click_target': 'ad', 'table': 'clicks'}}, {'key': '1', 'value': {'date': '2017-12-21', 'user_id': '1', 'click_target': 'profile', 'table': 'clicks'}}, {'key': '1', 'value': {'date': '2017-12-14', 'user_id': '1', 'click_target': 'ad', 'table': 'clicks'}}, {'key': '5', 'value': {'date': '2017-12-20', 'user_id': '5', 'click_target': 'profile', 'table': 'clicks'}}, {'key': '1', 'value': {'date': '2017-12-17', 'user_id': '1', 'click_target': 'item', 'table': 'clicks'}}, {'key': '1', 'value': {'date': '2017-12-12', 'user_id': '1', 'click_target': 'ad', 'table': 'clicks'}}, {'key': '1', 'value': {'date': '2017-12-16', 'user_id': '1', 'click_target': 'item', 'table': 'clicks'}}, {'key': '5', 'value': {'date': '2017-12-16', 'user_id': '5', 'click_target': 'ad', 'table': 'clicks'}}, {'key': '5', 'value': {'date': '2017-12-15', 'user_id': '5', 'click_target': 'profile', 'table': 'clicks'}}, {'key': '1', 'value': {'date': '2017-12-20', 'user_id': '1', 'click_target': 'item', 'table': 'clicks'}}, {'key': '5', 'value': {'date': '2017-12-12', 'user_id': '5', 'click_target': 'profile', 'table': 'clicks'}}, {'key': '1', 'value': {'date': '2017-12-17', 'user_id': '1', 'click_target': 'profile', 'table': 'clicks'}}, {'key': '5', 'value': {'date': '2017-12-15', 'user_id': '5', 'click_target': 'profile', 'table': 'clicks'}}, {'key': '5', 'value': {'date': '2017-12-14', 'user_id': '5', 'click_target': 'profile', 'table': 'clicks'}}, {'key': '1', 'value': {'date': '2017-12-17', 'user_id': '1', 'click_target': 'item', 'table': 'clicks'}}, {'key': '1', 'value': {'date': '2017-12-14', 'user_id': '1', 'click_target': 'ad', 'table': 'clicks'}}]\n"
     ]
    }
   ],
   "source": [
    "# TESTING mapper_task_2\n",
    "# TESTING mapper_task_1 (reducer will be tested with map_reduce implementation, when data will be grouped)\n",
    "test_m_2_u = mapper_task_2_users(data_set_users)\n",
    "print(test_m_2_u)\n",
    "\n",
    "test_m_2_c = mapper_task_2_clicks(data_set_clicks)\n",
    "print(test_m_2_c)\n"
   ]
  },
  {
   "cell_type": "code",
   "execution_count": 65,
   "metadata": {},
   "outputs": [
    {
     "name": "stdout",
     "output_type": "stream",
     "text": [
      "{'date': '2017-12-11', 'user_id': '1', 'click_target': 'ad', 'table': 'users', 'id': '1', 'country': 'LT'}\n",
      "{'date': '2017-12-20', 'user_id': '1', 'click_target': 'ad', 'table': 'users', 'id': '1', 'country': 'LT'}\n",
      "{'date': '2017-12-20', 'user_id': '1', 'click_target': 'item', 'table': 'users', 'id': '1', 'country': 'LT'}\n",
      "{'date': '2017-12-21', 'user_id': '1', 'click_target': 'ad', 'table': 'users', 'id': '1', 'country': 'LT'}\n",
      "{'date': '2017-12-13', 'user_id': '1', 'click_target': 'item', 'table': 'users', 'id': '1', 'country': 'LT'}\n",
      "{'date': '2017-12-12', 'user_id': '1', 'click_target': 'ad', 'table': 'users', 'id': '1', 'country': 'LT'}\n",
      "{'date': '2017-12-21', 'user_id': '1', 'click_target': 'profile', 'table': 'users', 'id': '1', 'country': 'LT'}\n",
      "{'date': '2017-12-14', 'user_id': '1', 'click_target': 'ad', 'table': 'users', 'id': '1', 'country': 'LT'}\n",
      "{'date': '2017-12-17', 'user_id': '1', 'click_target': 'item', 'table': 'users', 'id': '1', 'country': 'LT'}\n",
      "{'date': '2017-12-12', 'user_id': '1', 'click_target': 'ad', 'table': 'users', 'id': '1', 'country': 'LT'}\n",
      "{'date': '2017-12-16', 'user_id': '1', 'click_target': 'item', 'table': 'users', 'id': '1', 'country': 'LT'}\n",
      "{'date': '2017-12-20', 'user_id': '1', 'click_target': 'item', 'table': 'users', 'id': '1', 'country': 'LT'}\n",
      "{'date': '2017-12-17', 'user_id': '1', 'click_target': 'profile', 'table': 'users', 'id': '1', 'country': 'LT'}\n",
      "{'date': '2017-12-17', 'user_id': '1', 'click_target': 'item', 'table': 'users', 'id': '1', 'country': 'LT'}\n",
      "{'date': '2017-12-14', 'user_id': '1', 'click_target': 'ad', 'table': 'users', 'id': '1', 'country': 'LT'}\n",
      "{'date': '2017-12-20', 'screen': 'feed', 'user_id': '3', 'click_target': 'ad', 'table': 'users', 'id': '3', 'country': 'LT'}\n",
      "{'date': '2017-12-19', 'screen': 'catalog', 'user_id': '3', 'click_target': 'ad', 'table': 'users', 'id': '3', 'country': 'LT'}\n",
      "{'date': '2017-12-21', 'screen': 'feed', 'user_id': '3', 'click_target': 'profile', 'table': 'users', 'id': '3', 'country': 'LT'}\n",
      "{'date': '2017-12-12', 'screen': 'feed', 'user_id': '3', 'click_target': 'ad', 'table': 'users', 'id': '3', 'country': 'LT'}\n",
      "{'date': '2017-12-17', 'screen': 'feed', 'user_id': '3', 'click_target': 'item', 'table': 'users', 'id': '3', 'country': 'LT'}\n",
      "{'date': '2017-12-19', 'screen': 'catalog', 'user_id': '3', 'click_target': 'ad', 'table': 'users', 'id': '3', 'country': 'LT'}\n",
      "{'date': '2017-12-16', 'screen': 'catalog', 'user_id': '3', 'click_target': 'ad', 'table': 'users', 'id': '3', 'country': 'LT'}\n",
      "{'date': '2017-12-17', 'screen': 'feed', 'user_id': '3', 'click_target': 'item', 'table': 'users', 'id': '3', 'country': 'LT'}\n",
      "{'date': '2017-12-11', 'screen': 'feed', 'user_id': '3', 'click_target': 'ad', 'table': 'users', 'id': '3', 'country': 'LT'}\n",
      "{'date': '2017-12-15', 'screen': 'catalog', 'user_id': '3', 'click_target': 'item', 'table': 'users', 'id': '3', 'country': 'LT'}\n",
      "{'date': '2017-12-20', 'screen': 'catalog', 'user_id': '3', 'click_target': 'profile', 'table': 'users', 'id': '3', 'country': 'LT'}\n",
      "{'date': '2017-12-16', 'screen': 'catalog', 'user_id': '3', 'click_target': 'ad', 'table': 'users', 'id': '3', 'country': 'LT'}\n",
      "{'date': '2017-12-12', 'screen': 'feed', 'user_id': '3', 'click_target': 'ad', 'table': 'users', 'id': '3', 'country': 'LT'}\n",
      "{'date': '2017-12-15', 'user_id': '4', 'click_target': 'item', 'table': 'users', 'id': '4', 'city': 'Vilnius', 'country': 'LT'}\n",
      "{'date': '2017-12-15', 'user_id': '4', 'click_target': 'ad', 'table': 'users', 'id': '4', 'city': 'Vilnius', 'country': 'LT'}\n",
      "{'date': '2017-12-12', 'user_id': '4', 'click_target': 'profile', 'table': 'users', 'id': '4', 'city': 'Vilnius', 'country': 'LT'}\n",
      "{'date': '2017-12-13', 'user_id': '4', 'click_target': 'profile', 'table': 'users', 'id': '4', 'city': 'Vilnius', 'country': 'LT'}\n",
      "{'date': '2017-12-13', 'user_id': '4', 'click_target': 'ad', 'table': 'users', 'id': '4', 'city': 'Vilnius', 'country': 'LT'}\n",
      "{'date': '2017-12-12', 'user_id': '4', 'click_target': 'ad', 'table': 'users', 'id': '4', 'city': 'Vilnius', 'country': 'LT'}\n",
      "{'date': '2017-12-18', 'user_id': '4', 'click_target': 'ad', 'table': 'users', 'id': '4', 'city': 'Vilnius', 'country': 'LT'}\n",
      "{'date': '2017-12-21', 'user_id': '4', 'click_target': 'item', 'table': 'users', 'id': '4', 'city': 'Vilnius', 'country': 'LT'}\n",
      "{'date': '2017-12-17', 'user_id': '4', 'click_target': 'profile', 'table': 'users', 'id': '4', 'city': 'Vilnius', 'country': 'LT'}\n",
      "{'date': '2017-12-14', 'user_id': '4', 'click_target': 'ad', 'table': 'users', 'id': '4', 'city': 'Vilnius', 'country': 'LT'}\n",
      "{'date': '2017-12-16', 'user_id': '4', 'click_target': 'ad', 'table': 'users', 'id': '4', 'city': 'Vilnius', 'country': 'LT'}\n"
     ]
    }
   ],
   "source": [
    "final_data_2 = map_reduce(datasets=[data_set_users, data_set_clicks], mappers=[mapper_task_2_users, mapper_task_2_clicks], reducer=reducer_task_2)\n",
    "for data in final_data_2:\n",
    "    print(data)"
   ]
  },
  {
   "cell_type": "code",
   "execution_count": null,
   "metadata": {},
   "outputs": [],
   "source": []
  }
 ],
 "metadata": {
  "kernelspec": {
   "display_name": "Python 3",
   "language": "python",
   "name": "python3"
  },
  "language_info": {
   "codemirror_mode": {
    "name": "ipython",
    "version": 3
   },
   "file_extension": ".py",
   "mimetype": "text/x-python",
   "name": "python",
   "nbconvert_exporter": "python",
   "pygments_lexer": "ipython3",
   "version": "3.11.1"
  },
  "orig_nbformat": 4
 },
 "nbformat": 4,
 "nbformat_minor": 2
}
